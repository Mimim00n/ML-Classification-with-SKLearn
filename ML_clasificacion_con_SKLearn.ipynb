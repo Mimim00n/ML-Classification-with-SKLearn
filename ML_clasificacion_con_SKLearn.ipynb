{
  "nbformat": 4,
  "nbformat_minor": 0,
  "metadata": {
    "colab": {
      "name": "ML_clasificacion_con_SKLearn.ipynb",
      "provenance": [],
      "authorship_tag": "ABX9TyP+xLb2t6yLXu7OInaK/xzI",
      "include_colab_link": true
    },
    "kernelspec": {
      "name": "python3",
      "display_name": "Python 3"
    },
    "language_info": {
      "name": "python"
    }
  },
  "cells": [
    {
      "cell_type": "markdown",
      "metadata": {
        "id": "view-in-github",
        "colab_type": "text"
      },
      "source": [
        "<a href=\"https://colab.research.