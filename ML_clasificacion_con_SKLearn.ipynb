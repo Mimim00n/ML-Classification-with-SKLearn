{
  "nbformat": 4,
  "nbformat_minor": 0,
  "metadata": {
    "colab": {
      "name": "ML_clasificacion_con_SKLearn.ipynb",
      "provenance":